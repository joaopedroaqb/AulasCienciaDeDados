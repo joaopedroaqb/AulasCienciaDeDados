{
  "nbformat": 4,
  "nbformat_minor": 0,
  "metadata": {
    "colab": {
      "provenance": []
    },
    "kernelspec": {
      "name": "python3",
      "display_name": "Python 3"
    },
    "language_info": {
      "name": "python"
    }
  },
  "cells": [
    {
      "cell_type": "code",
      "execution_count": null,
      "metadata": {
        "id": "0DaiMYtIK0zD"
      },
      "outputs": [],
      "source": [
        "import numpy as np\n",
        "import pandas as pd\n",
        "import matplotlib.pyplot as plt\n",
        "\n",
        "data = pd.read_csv('iris.csv',header=(0))\n",
        "data = data.dropna(axis = 'rows')\n",
        "classes = np.array(pd.unique(data[data.columns[-1]]), dtype = str)\n",
        "\n",
        "data = data.to_numpy()\n",
        "x = data[:,0:-1]\n",
        "y = data[:,-1]\n"
      ]
    },
    {
      "cell_type": "code",
      "source": [
        "from sklearn.preprocessing import StandardScaler\n",
        "\n",
        "scaler = StandardScaler().fit(x)\n",
        "X = scaler.transform(x)"
      ],
      "metadata": {
        "id": "nSARXKazLpzK"
      },
      "execution_count": null,
      "outputs": []
    },
    {
      "cell_type": "code",
      "source": [
        "from sklearn.model_selection import train_test_split\n",
        "\n",
        "p = 0.2\n",
        "x_train,x_test,y_train,y_test = train_test_split(X,y, test_size = p, random_state=42)"
      ],
      "metadata": {
        "id": "RvtxgLP0MJ9o"
      },
      "execution_count": null,
      "outputs": []
    },
    {
      "cell_type": "code",
      "source": [
        "from sklearn.neighbors import KNeighborsClassifier\n",
        "\n",
        "k = 5\n",
        "model = KNeighborsClassifier(n_neighbors=k, metric = 'euclidean')\n",
        "model.fit(x_train,y_train)\n",
        "\n",
        "y_pred = model.predict(x_test)"
      ],
      "metadata": {
        "id": "wSuZ99dtNaQo"
      },
      "execution_count": null,
      "outputs": []
    },
    {
      "cell_type": "code",
      "source": [
        "from sklearn.metrics import accuracy_score\n",
        "\n",
        "score = accuracy_score(y_pred,y_test)\n",
        "print(\"Acurácia: \",score)"
      ],
      "metadata": {
        "colab": {
          "base_uri": "https://localhost:8080/"
        },
        "id": "P9HMHK9mN4YD",
        "outputId": "b064c41d-251b-4a66-a8f5-f25bf7eadcf5"
      },
      "execution_count": null,
      "outputs": [
        {
          "output_type": "stream",
          "name": "stdout",
          "text": [
            "Acurácia:  1.0\n"
          ]
        }
      ]
    },
    {
      "cell_type": "code",
      "source": [
        "from sklearn.model_selection import cross_validate\n",
        "nkf = 5\n",
        "vk = []\n",
        "vscore = []\n",
        "\n",
        "for k in range(1,20):\n",
        "  model = KNeighborsClassifier(n_neighbors = k, metric = ('euclidean'))\n",
        "  cv = cross_validate(model, x_train,y_train, cv=nkf)\n",
        "  vscore.append(cv['test_score'].mean())\n",
        "  vk.append(k)\n",
        "\n",
        "plt.figure(figsize = (4,3))\n",
        "plt.plot(vk, vscore, '-bo')\n",
        "plt.xlabel('k',fontsize = 15)\n",
        "plt.ylabel('Acuracia', fontsize = 15)\n",
        "plt.show()\n",
        "\n",
        "best_k = np.argmax(vscore)+1\n",
        "print(\"Melhor K: \",best_k)\n",
        "print(\"Acuracia: \",np.max(vscore))"
      ],
      "metadata": {
        "colab": {
          "base_uri": "https://localhost:8080/",
          "height": 352
        },
        "id": "nMGM8FLZOXyT",
        "outputId": "d6ced5d7-c0e2-4f80-8b22-afa9172116aa"
      },
      "execution_count": null,
      "outputs": [
        {
          "output_type": "display_data",
          "data": {
            "text/plain": [
              "<Figure size 400x300 with 1 Axes>"
            ],
            "image/png": "[encoded data removed]"
          },
          "metadata": {}
        },
        {
          "output_type": "stream",
          "name": "stdout",
          "text": [
            "Melhor K:  3\n",
            "Acuracia:  0.95\n"
          ]
        }
      ]
    },
    {
      "cell_type": "code",
      "source": [
        "from sklearn.linear_model import LogisticRegression\n",
        "from sklearn import metrics\n",
        "\n",
        "model = LogisticRegression(solver = 'lbfgs',max_iter=1000)\n",
        "model.fit(x_train,y_train)\n",
        "y_pred = model.predict(x_test)\n",
        "print(\"Acuracia: \", model.score(x_test,y_test))"
      ],
      "metadata": {
        "id": "piin0wUgPih0",
        "outputId": "c1781689-472d-4dd5-a55a-42e7d4cffa15",
        "colab": {
          "base_uri": "https://localhost:8080/"
        }
      },
      "execution_count": 13,
      "outputs": [
        {
          "output_type": "stream",
          "name": "stdout",
          "text": [
            "Acuracia:  1.0\n"
          ]
        }
      ]
    },
    {
      "cell_type": "code",
      "source": [
        "from sklearn.naive_bayes import GaussianNB\n",
        "from sklearn import metrics\n",
        "\n",
        "model = GaussianNB()\n",
        "\n",
        "model.fit(x_train, y_train)\n",
        "\n",
        "y_pred = model.predict(x_test)\n",
        "\n",
        "print('Acurácia: ', model.score(x_test,y_test))"
      ],
      "metadata": {
        "id": "WfwlJkC4WxnC",
        "outputId": "f30ba2e9-a78b-4388-adc1-51b13345f67a",
        "colab": {
          "base_uri": "https://localhost:8080/"
        }
      },
      "execution_count": 14,
      "outputs": [
        {
          "output_type": "stream",
          "name": "stdout",
          "text": [
            "Acurácia:  1.0\n"
          ]
        }
      ]
    }
  ]
}